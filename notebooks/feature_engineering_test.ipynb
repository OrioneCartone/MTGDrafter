{
 "cells": [
  {
   "cell_type": "code",
   "execution_count": 6,
   "id": "670718e6",
   "metadata": {},
   "outputs": [
    {
     "name": "stdout",
     "output_type": "stream",
     "text": [
      "Caricamento database...\n"
     ]
    },
    {
     "data": {
      "text/html": [
       "<div>\n",
       "<style scoped>\n",
       "    .dataframe tbody tr th:only-of-type {\n",
       "        vertical-align: middle;\n",
       "    }\n",
       "\n",
       "    .dataframe tbody tr th {\n",
       "        vertical-align: top;\n",
       "    }\n",
       "\n",
       "    .dataframe thead th {\n",
       "        text-align: right;\n",
       "    }\n",
       "</style>\n",
       "<table border=\"1\" class=\"dataframe\">\n",
       "  <thead>\n",
       "    <tr style=\"text-align: right;\">\n",
       "      <th></th>\n",
       "      <th>name</th>\n",
       "      <th>vector</th>\n",
       "    </tr>\n",
       "  </thead>\n",
       "  <tbody>\n",
       "    <tr>\n",
       "      <th>0</th>\n",
       "      <td>Counterspell</td>\n",
       "      <td>[0, 1, 0, 0, 0, 2.0, 0, 1, 0, 0, 0, 0, 0, 0]</td>\n",
       "    </tr>\n",
       "    <tr>\n",
       "      <th>1</th>\n",
       "      <td>Lightning Bolt</td>\n",
       "      <td>[0, 0, 0, 1, 0, 1.0, 0, 1, 0, 0, 0, 0, 0, 0]</td>\n",
       "    </tr>\n",
       "    <tr>\n",
       "      <th>2</th>\n",
       "      <td>Thraben Inspector</td>\n",
       "      <td>[1, 0, 0, 0, 0, 1.0, 1, 0, 0, 0, 0, 0, 1, 2]</td>\n",
       "    </tr>\n",
       "    <tr>\n",
       "      <th>3</th>\n",
       "      <td>Island</td>\n",
       "      <td>[0, 1, 0, 0, 0, 0.0, 0, 0, 0, 0, 0, 1, 0, 0]</td>\n",
       "    </tr>\n",
       "  </tbody>\n",
       "</table>\n",
       "</div>"
      ],
      "text/plain": [
       "                name                                        vector\n",
       "0       Counterspell  [0, 1, 0, 0, 0, 2.0, 0, 1, 0, 0, 0, 0, 0, 0]\n",
       "1     Lightning Bolt  [0, 0, 0, 1, 0, 1.0, 0, 1, 0, 0, 0, 0, 0, 0]\n",
       "2  Thraben Inspector  [1, 0, 0, 0, 0, 1.0, 1, 0, 0, 0, 0, 0, 1, 2]\n",
       "3             Island  [0, 1, 0, 0, 0, 0.0, 0, 0, 0, 0, 0, 1, 0, 0]"
      ]
     },
     "metadata": {},
     "output_type": "display_data"
    },
    {
     "name": "stdout",
     "output_type": "stream",
     "text": [
      "✅ Esecuzione completata!\n"
     ]
    }
   ],
   "source": [
    "import json\n",
    "from pathlib import Path\n",
    "import sys\n",
    "import pandas as pd\n",
    "\n",
    "# --- BLOCCO DI CODICE CHIAVE PER RISOLVERE L'ERRORE ---\n",
    "# Prende la directory di lavoro corrente (che sarà la cartella /notebooks)\n",
    "# e risale di un livello per arrivare alla root del progetto.\n",
    "PROJECT_ROOT = Path.cwd().parent \n",
    "\n",
    "# Aggiunge la root del progetto alla lista di percorsi di Python\n",
    "if str(PROJECT_ROOT) not in sys.path:\n",
    "    sys.path.append(str(PROJECT_ROOT))\n",
    "# --- FINE BLOCCO CHIAVE ---\n",
    "\n",
    "\n",
    "# Ora l'import funzionerà perché Python sa dove guardare\n",
    "from src.features.cardEncoders import CardEncoder\n",
    "\n",
    "# ... il resto del codice rimane invariato ...\n",
    "print(\"Caricamento database...\")\n",
    "card_db_path = PROJECT_ROOT / \"data\" / \"external\" / \"scryfall_commons.json\"\n",
    "with open(card_db_path, 'r', encoding='utf-8') as f:\n",
    "    card_database = json.load(f)\n",
    "\n",
    "card_db_by_name = {card['name']: card for card in card_database}\n",
    "encoder = CardEncoder()\n",
    "\n",
    "test_cards = [\"Counterspell\", \"Lightning Bolt\", \"Thraben Inspector\", \"Island\"]\n",
    "results = []\n",
    "for name in test_cards:\n",
    "    if name in card_db_by_name:\n",
    "        details = card_db_by_name[name]\n",
    "        vector = encoder.encode_card(details)\n",
    "        results.append({'name': name, 'vector': vector})\n",
    "\n",
    "df_results = pd.DataFrame(results)\n",
    "\n",
    "display(df_results)\n",
    "print(\"✅ Esecuzione completata!\")\n"
   ]
  }
 ],
 "metadata": {
  "kernelspec": {
   "display_name": "venv",
   "language": "python",
   "name": "python3"
  },
  "language_info": {
   "codemirror_mode": {
    "name": "ipython",
    "version": 3
   },
   "file_extension": ".py",
   "mimetype": "text/x-python",
   "name": "python",
   "nbconvert_exporter": "python",
   "pygments_lexer": "ipython3",
   "version": "3.12.3"
  }
 },
 "nbformat": 4,
 "nbformat_minor": 5
}
