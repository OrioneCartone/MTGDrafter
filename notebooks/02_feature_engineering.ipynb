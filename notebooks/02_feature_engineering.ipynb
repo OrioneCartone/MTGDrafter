import json
from pathlib import Path
import sys
import pandas as pd

# Aggiunge la root del progetto al path per poter importare i nostri moduli
# NOTA: Path.cwd() funziona se apri il notebook dalla root del progetto.
# Se hai problemi, potresti dover usare un percorso più esplicito.
try:
    PROJECT_ROOT = Path(__file__).parent.parent
except NameError:
    PROJECT_ROOT = Path.cwd()

sys.path.append(str(PROJECT_ROOT))

# Importiamo la classe che abbiamo appena creato
from src.features.card_encoders import CardEncoder

# Carichiamo il nostro database di carte
card_db_path = PROJECT_ROOT / "data" / "external" / "scryfall_commons.json"

# Controlliamo che il file esista prima di provare a caricarlo
if not card_db_path.exists():
    print(f"ERRORE: Il file {card_db_path} non esiste. Esegui prima lo script di download.")
else:
    with open(card_db_path, 'r', encoding='utf-8') as f:
        card_database = json.load(f)

    # Creiamo un dizionario per un accesso facile
    card_db_by_name = {card['name']: card for card in card_database}

    # Inizializziamo il nostro encoder
    encoder = CardEncoder()

    # --- Testiamolo su alcune carte! ---
    test_cards = [
        "Counterspell",
        "Lightning Bolt",
        "Thraben Inspector",
        "Island",
        "Ornithopter" # Aggiunta per testare P/T 0
    ]

    results = []
    print("Encoding delle carte di test...")
    for name in test_cards:
        if name in card_db_by_name:
            card_details = card_db_by_name[name]
            feature_vector = encoder.encode_card(card_details)
            results.append({
                "name": name,
                "cmc": card_details.get('cmc'),
                "type": card_details.get('type_line'),
                "vector_len": len(feature_vector),
                "vector": feature_vector
            })
        else:
            print(f"ATTENZIONE: La carta '{name}' non è stata trovata nel database (potrebbe non essere comune).")
    
    if results:
        # Usiamo pandas per una visualizzazione pulita e tabellare
        df_results = pd.DataFrame(results)
        display(df_results)
    else:
        print("Nessun risultato da mostrare.")
PPP