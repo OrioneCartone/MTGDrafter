{
 "cells": [
  {
   "cell_type": "code",
   "execution_count": 2,
   "id": "670718e6",
   "metadata": {},
   "outputs": [
    {
     "ename": "ModuleNotFoundError",
     "evalue": "No module named 'src'",
     "output_type": "error",
     "traceback": [
      "\u001b[31m---------------------------------------------------------------------------\u001b[39m",
      "\u001b[31mModuleNotFoundError\u001b[39m                       Traceback (most recent call last)",
      "\u001b[36mCell\u001b[39m\u001b[36m \u001b[39m\u001b[32mIn[2]\u001b[39m\u001b[32m, line 13\u001b[39m\n\u001b[32m     10\u001b[39m     PROJECT_ROOT = Path.cwd()\n\u001b[32m     11\u001b[39m sys.path.append(\u001b[38;5;28mstr\u001b[39m(PROJECT_ROOT))\n\u001b[32m---> \u001b[39m\u001b[32m13\u001b[39m \u001b[38;5;28;01mfrom\u001b[39;00m\u001b[38;5;250m \u001b[39m\u001b[34;01msrc\u001b[39;00m\u001b[34;01m.\u001b[39;00m\u001b[34;01mfeatures\u001b[39;00m\u001b[34;01m.\u001b[39;00m\u001b[34;01mcard_encoders\u001b[39;00m\u001b[38;5;250m \u001b[39m\u001b[38;5;28;01mimport\u001b[39;00m CardEncoder\n\u001b[32m     15\u001b[39m \u001b[38;5;28mprint\u001b[39m(\u001b[33m\"\u001b[39m\u001b[33mCaricamento database...\u001b[39m\u001b[33m\"\u001b[39m)\n\u001b[32m     16\u001b[39m card_db_path = PROJECT_ROOT / \u001b[33m\"\u001b[39m\u001b[33mdata\u001b[39m\u001b[33m\"\u001b[39m / \u001b[33m\"\u001b[39m\u001b[33mexternal\u001b[39m\u001b[33m\"\u001b[39m / \u001b[33m\"\u001b[39m\u001b[33mscryfall_commons.json\u001b[39m\u001b[33m\"\u001b[39m\n",
      "\u001b[31mModuleNotFoundError\u001b[39m: No module named 'src'"
     ]
    }
   ],
   "source": [
    "import json\n",
    "from pathlib import Path\n",
    "import sys\n",
    "import pandas as pd\n",
    "\n",
    "# Questo blocco aiuta a trovare la root del progetto\n",
    "try:\n",
    "    PROJECT_ROOT = Path(__file__).parent.parent\n",
    "except NameError:\n",
    "    PROJECT_ROOT = Path.cwd()\n",
    "sys.path.append(str(PROJECT_ROOT))\n",
    "\n",
    "from src.features.card_encoders import CardEncoder\n",
    "\n",
    "print(\"Caricamento database...\")\n",
    "card_db_path = PROJECT_ROOT / \"data\" / \"external\" / \"scryfall_commons.json\"\n",
    "with open(card_db_path, 'r', encoding='utf-8') as f:\n",
    "    card_database = json.load(f)\n",
    "\n",
    "card_db_by_name = {card['name']: card for card in card_database}\n",
    "encoder = CardEncoder()\n",
    "\n",
    "test_cards = [\"Counterspell\", \"Lightning Bolt\", \"Thraben Inspector\", \"Island\"]\n",
    "results = []\n",
    "for name in test_cards:\n",
    "    if name in card_db_by_name:\n",
    "        details = card_db_by_name[name]\n",
    "        vector = encoder.encode_card(details)\n",
    "        results.append({'name': name, 'vector': vector})\n",
    "\n",
    "df_results = pd.DataFrame(results)\n",
    "\n",
    "# Usa display() per una visualizzazione pulita\n",
    "display(df_results)\n",
    "print(\"✅ Esecuzione completata!\")\n"
   ]
  }
 ],
 "metadata": {
  "kernelspec": {
   "display_name": "venv",
   "language": "python",
   "name": "python3"
  },
  "language_info": {
   "codemirror_mode": {
    "name": "ipython",
    "version": 3
   },
   "file_extension": ".py",
   "mimetype": "text/x-python",
   "name": "python",
   "nbconvert_exporter": "python",
   "pygments_lexer": "ipython3",
   "version": "3.12.3"
  }
 },
 "nbformat": 4,
 "nbformat_minor": 5
}
